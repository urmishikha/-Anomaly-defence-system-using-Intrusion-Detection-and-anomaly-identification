{
 "cells": [
  {
   "cell_type": "code",
   "execution_count": 1,
   "id": "9b5b199b-301b-443d-b1d5-c960a91da033",
   "metadata": {},
   "outputs": [
    {
     "name": "stdout",
     "output_type": "stream",
     "text": [
      "Requirement already satisfied: pandas in ./anaconda3/lib/python3.11/site-packages (2.0.3)\n",
      "Requirement already satisfied: numpy in ./anaconda3/lib/python3.11/site-packages (1.23.5)\n",
      "Requirement already satisfied: scikit-learn in ./anaconda3/lib/python3.11/site-packages (1.5.1)\n",
      "Requirement already satisfied: tensorflow in ./anaconda3/lib/python3.11/site-packages (2.12.0)\n",
      "Requirement already satisfied: keras in ./anaconda3/lib/python3.11/site-packages (2.12.0)\n",
      "Requirement already satisfied: matplotlib in ./anaconda3/lib/python3.11/site-packages (3.7.2)\n",
      "Requirement already satisfied: seaborn in ./anaconda3/lib/python3.11/site-packages (0.12.2)\n",
      "Requirement already satisfied: flask in ./anaconda3/lib/python3.11/site-packages (3.1.0)\n",
      "Requirement already satisfied: requests in ./anaconda3/lib/python3.11/site-packages (2.31.0)\n",
      "Requirement already satisfied: python-dateutil>=2.8.2 in ./anaconda3/lib/python3.11/site-packages (from pandas) (2.8.2)\n",
      "Requirement already satisfied: pytz>=2020.1 in ./anaconda3/lib/python3.11/site-packages (from pandas) (2023.3.post1)\n",
      "Requirement already satisfied: tzdata>=2022.1 in ./anaconda3/lib/python3.11/site-packages (from pandas) (2023.3)\n",
      "Requirement already satisfied: scipy>=1.6.0 in ./anaconda3/lib/python3.11/site-packages (from scikit-learn) (1.11.1)\n",
      "Requirement already satisfied: joblib>=1.2.0 in ./anaconda3/lib/python3.11/site-packages (from scikit-learn) (1.2.0)\n",
      "Requirement already satisfied: threadpoolctl>=3.1.0 in ./anaconda3/lib/python3.11/site-packages (from scikit-learn) (3.5.0)\n",
      "Requirement already satisfied: absl-py>=1.0.0 in ./anaconda3/lib/python3.11/site-packages (from tensorflow) (2.1.0)\n",
      "Requirement already satisfied: astunparse>=1.6.0 in ./anaconda3/lib/python3.11/site-packages (from tensorflow) (1.6.3)\n",
      "Requirement already satisfied: flatbuffers>=2.0 in ./anaconda3/lib/python3.11/site-packages (from tensorflow) (23.5.26)\n",
      "Requirement already satisfied: gast<=0.4.0,>=0.2.1 in ./anaconda3/lib/python3.11/site-packages (from tensorflow) (0.4.0)\n",
      "Requirement already satisfied: google-pasta>=0.1.1 in ./anaconda3/lib/python3.11/site-packages (from tensorflow) (0.2.0)\n",
      "Requirement already satisfied: h5py>=2.9.0 in ./anaconda3/lib/python3.11/site-packages (from tensorflow) (3.9.0)\n",
      "Requirement already satisfied: jax>=0.3.15 in ./anaconda3/lib/python3.11/site-packages (from tensorflow) (0.4.24)\n",
      "Requirement already satisfied: libclang>=13.0.0 in ./anaconda3/lib/python3.11/site-packages (from tensorflow) (16.0.6)\n",
      "Requirement already satisfied: opt-einsum>=2.3.2 in ./anaconda3/lib/python3.11/site-packages (from tensorflow) (3.3.0)\n",
      "Requirement already satisfied: packaging in ./anaconda3/lib/python3.11/site-packages (from tensorflow) (23.1)\n",
      "Requirement already satisfied: protobuf!=4.21.0,!=4.21.1,!=4.21.2,!=4.21.3,!=4.21.4,!=4.21.5,<5.0.0dev,>=3.20.3 in ./anaconda3/lib/python3.11/site-packages (from tensorflow) (3.20.3)\n",
      "Requirement already satisfied: setuptools in ./anaconda3/lib/python3.11/site-packages (from tensorflow) (68.0.0)\n",
      "Requirement already satisfied: six>=1.12.0 in ./anaconda3/lib/python3.11/site-packages (from tensorflow) (1.16.0)\n",
      "Requirement already satisfied: termcolor>=1.1.0 in ./anaconda3/lib/python3.11/site-packages (from tensorflow) (2.4.0)\n",
      "Requirement already satisfied: typing-extensions>=3.6.6 in ./anaconda3/lib/python3.11/site-packages (from tensorflow) (4.12.2)\n",
      "Requirement already satisfied: wrapt<1.15,>=1.11.0 in ./anaconda3/lib/python3.11/site-packages (from tensorflow) (1.14.1)\n",
      "Requirement already satisfied: grpcio<2.0,>=1.24.3 in ./anaconda3/lib/python3.11/site-packages (from tensorflow) (1.48.2)\n",
      "Requirement already satisfied: tensorboard<2.13,>=2.12 in ./anaconda3/lib/python3.11/site-packages (from tensorflow) (2.12.3)\n",
      "Requirement already satisfied: tensorflow-estimator<2.13,>=2.12.0 in ./anaconda3/lib/python3.11/site-packages (from tensorflow) (2.12.0)\n",
      "Requirement already satisfied: contourpy>=1.0.1 in ./anaconda3/lib/python3.11/site-packages (from matplotlib) (1.0.5)\n",
      "Requirement already satisfied: cycler>=0.10 in ./anaconda3/lib/python3.11/site-packages (from matplotlib) (0.11.0)\n",
      "Requirement already satisfied: fonttools>=4.22.0 in ./anaconda3/lib/python3.11/site-packages (from matplotlib) (4.25.0)\n",
      "Requirement already satisfied: kiwisolver>=1.0.1 in ./anaconda3/lib/python3.11/site-packages (from matplotlib) (1.4.4)\n",
      "Requirement already satisfied: pillow>=6.2.0 in ./anaconda3/lib/python3.11/site-packages (from matplotlib) (9.4.0)\n",
      "Requirement already satisfied: pyparsing<3.1,>=2.3.1 in ./anaconda3/lib/python3.11/site-packages (from matplotlib) (3.0.9)\n",
      "Requirement already satisfied: Werkzeug>=3.1 in ./anaconda3/lib/python3.11/site-packages (from flask) (3.1.3)\n",
      "Requirement already satisfied: Jinja2>=3.1.2 in ./anaconda3/lib/python3.11/site-packages (from flask) (3.1.2)\n",
      "Requirement already satisfied: itsdangerous>=2.2 in ./anaconda3/lib/python3.11/site-packages (from flask) (2.2.0)\n",
      "Requirement already satisfied: click>=8.1.3 in ./anaconda3/lib/python3.11/site-packages (from flask) (8.1.8)\n",
      "Requirement already satisfied: blinker>=1.9 in ./anaconda3/lib/python3.11/site-packages (from flask) (1.9.0)\n",
      "Requirement already satisfied: charset-normalizer<4,>=2 in ./anaconda3/lib/python3.11/site-packages (from requests) (2.0.4)\n",
      "Requirement already satisfied: idna<4,>=2.5 in ./anaconda3/lib/python3.11/site-packages (from requests) (3.4)\n",
      "Requirement already satisfied: urllib3<3,>=1.21.1 in ./anaconda3/lib/python3.11/site-packages (from requests) (1.26.16)\n",
      "Requirement already satisfied: certifi>=2017.4.17 in ./anaconda3/lib/python3.11/site-packages (from requests) (2024.12.14)\n",
      "Requirement already satisfied: wheel<1.0,>=0.23.0 in ./anaconda3/lib/python3.11/site-packages (from astunparse>=1.6.0->tensorflow) (0.35.1)\n",
      "Requirement already satisfied: ml-dtypes>=0.2.0 in ./anaconda3/lib/python3.11/site-packages (from jax>=0.3.15->tensorflow) (0.3.2)\n",
      "Requirement already satisfied: MarkupSafe>=2.0 in ./anaconda3/lib/python3.11/site-packages (from Jinja2>=3.1.2->flask) (2.1.1)\n",
      "Requirement already satisfied: google-auth<3,>=1.6.3 in ./anaconda3/lib/python3.11/site-packages (from tensorboard<2.13,>=2.12->tensorflow) (2.26.2)\n",
      "Requirement already satisfied: google-auth-oauthlib<1.1,>=0.5 in ./anaconda3/lib/python3.11/site-packages (from tensorboard<2.13,>=2.12->tensorflow) (1.0.0)\n",
      "Requirement already satisfied: markdown>=2.6.8 in ./anaconda3/lib/python3.11/site-packages (from tensorboard<2.13,>=2.12->tensorflow) (3.4.1)\n",
      "Requirement already satisfied: tensorboard-data-server<0.8.0,>=0.7.0 in ./anaconda3/lib/python3.11/site-packages (from tensorboard<2.13,>=2.12->tensorflow) (0.7.0)\n",
      "Requirement already satisfied: cachetools<6.0,>=2.0.0 in ./anaconda3/lib/python3.11/site-packages (from google-auth<3,>=1.6.3->tensorboard<2.13,>=2.12->tensorflow) (5.3.2)\n",
      "Requirement already satisfied: pyasn1-modules>=0.2.1 in ./anaconda3/lib/python3.11/site-packages (from google-auth<3,>=1.6.3->tensorboard<2.13,>=2.12->tensorflow) (0.2.8)\n",
      "Requirement already satisfied: rsa<5,>=3.1.4 in ./anaconda3/lib/python3.11/site-packages (from google-auth<3,>=1.6.3->tensorboard<2.13,>=2.12->tensorflow) (4.9)\n",
      "Requirement already satisfied: requests-oauthlib>=0.7.0 in ./anaconda3/lib/python3.11/site-packages (from google-auth-oauthlib<1.1,>=0.5->tensorboard<2.13,>=2.12->tensorflow) (1.3.1)\n",
      "Requirement already satisfied: pyasn1<0.5.0,>=0.4.6 in ./anaconda3/lib/python3.11/site-packages (from pyasn1-modules>=0.2.1->google-auth<3,>=1.6.3->tensorboard<2.13,>=2.12->tensorflow) (0.4.8)\n",
      "Requirement already satisfied: oauthlib>=3.0.0 in ./anaconda3/lib/python3.11/site-packages (from requests-oauthlib>=0.7.0->google-auth-oauthlib<1.1,>=0.5->tensorboard<2.13,>=2.12->tensorflow) (3.2.2)\n",
      "Requirement already satisfied: elasticsearch in ./anaconda3/lib/python3.11/site-packages (8.17.1)\n",
      "Requirement already satisfied: kafka-python in ./anaconda3/lib/python3.11/site-packages (2.0.2)\n",
      "Requirement already satisfied: mysql-connector-python in ./anaconda3/lib/python3.11/site-packages (8.3.0)\n",
      "Requirement already satisfied: elastic-transport<9,>=8.15.1 in ./anaconda3/lib/python3.11/site-packages (from elasticsearch) (8.17.0)\n",
      "Requirement already satisfied: urllib3<3,>=1.26.2 in ./anaconda3/lib/python3.11/site-packages (from elastic-transport<9,>=8.15.1->elasticsearch) (1.26.16)\n",
      "Requirement already satisfied: certifi in ./anaconda3/lib/python3.11/site-packages (from elastic-transport<9,>=8.15.1->elasticsearch) (2024.12.14)\n"
     ]
    }
   ],
   "source": [
    "!pip install pandas numpy scikit-learn tensorflow keras matplotlib seaborn flask requests\n",
    "!pip install elasticsearch kafka-python mysql-connector-python\n"
   ]
  },
  {
   "cell_type": "code",
   "execution_count": 2,
   "id": "72c82b42-1257-4b6b-bb24-ecee7b4fc07c",
   "metadata": {},
   "outputs": [
    {
     "name": "stdout",
     "output_type": "stream",
     "text": [
      "Requirement already satisfied: pip in ./anaconda3/lib/python3.11/site-packages (25.0)\n",
      "Note: you may need to restart the kernel to use updated packages.\n"
     ]
    }
   ],
   "source": [
    "pip install --upgrade pip"
   ]
  },
  {
   "cell_type": "code",
   "execution_count": 3,
   "id": "d7362548-ed21-4e2c-ad9a-facfadded4b5",
   "metadata": {},
   "outputs": [
    {
     "name": "stdout",
     "output_type": "stream",
     "text": [
      "Training set size: (100778, 42), Testing set size: (25195, 42)\n",
      "Classification Report:\n",
      "              precision    recall  f1-score   support\n",
      "\n",
      "           0       0.55      0.93      0.69     13422\n",
      "           1       0.64      0.14      0.22     11773\n",
      "\n",
      "    accuracy                           0.56     25195\n",
      "   macro avg       0.59      0.53      0.46     25195\n",
      "weighted avg       0.59      0.56      0.47     25195\n",
      "\n"
     ]
    }
   ],
   "source": [
    "import pandas as pd\n",
    "import numpy as np\n",
    "from sklearn.model_selection import train_test_split\n",
    "from sklearn.preprocessing import StandardScaler, LabelEncoder\n",
    "from sklearn.ensemble import IsolationForest\n",
    "from sklearn.metrics import accuracy_score, classification_report\n",
    "\n",
    "# Define column names\n",
    "columns = ['duration', 'protocol_type', 'service', 'flag', 'src_bytes', 'dst_bytes', \n",
    "           'land', 'wrong_fragment', 'urgent', 'hot', 'num_failed_logins', 'logged_in',\n",
    "           'num_compromised', 'root_shell', 'su_attempted', 'num_root', 'num_file_creations',\n",
    "           'num_shells', 'num_access_files', 'num_outbound_cmds', 'is_host_login', \n",
    "           'is_guest_login', 'count', 'srv_count', 'serror_rate', 'srv_serror_rate',\n",
    "           'rerror_rate', 'srv_rerror_rate', 'same_srv_rate', 'diff_srv_rate', \n",
    "           'srv_diff_host_rate', 'dst_host_count', 'dst_host_srv_count', 'dst_host_same_srv_rate',\n",
    "           'dst_host_diff_srv_rate', 'dst_host_same_src_port_rate', 'dst_host_srv_diff_host_rate',\n",
    "           'dst_host_serror_rate', 'dst_host_srv_serror_rate', 'dst_host_rerror_rate',\n",
    "           'dst_host_srv_rerror_rate', 'attack', 'last_flag']\n",
    "\n",
    "# Load dataset\n",
    "try:\n",
    "    df = pd.read_csv(\"KDDTrain+.txt\", names=columns)\n",
    "except FileNotFoundError:\n",
    "    print(\"Error: File 'KDDTrain+.txt' not found. Please check the file path.\")\n",
    "    exit()\n",
    "\n",
    "# Encode categorical variables\n",
    "encoder = LabelEncoder()\n",
    "for col in ['protocol_type', 'service', 'flag']:\n",
    "    df[col] = encoder.fit_transform(df[col])\n",
    "\n",
    "# Encode attack labels (1 = attack, 0 = normal)\n",
    "df['attack'] = df['attack'].apply(lambda x: 0 if x == 'normal' else 1)\n",
    "\n",
    "# Normalize numeric features\n",
    "scaler = StandardScaler()\n",
    "features = df.drop(columns=['attack'])\n",
    "labels = df['attack']\n",
    "features_scaled = scaler.fit_transform(features)\n",
    "\n",
    "# Split data\n",
    "X_train, X_test, y_train, y_test = train_test_split(features_scaled, labels, test_size=0.2, random_state=42)\n",
    "\n",
    "print(f\"Training set size: {X_train.shape}, Testing set size: {X_test.shape}\")\n",
    "\n",
    "# Train Isolation Forest model\n",
    "model = IsolationForest(n_estimators=100, contamination=0.1, random_state=42)\n",
    "model.fit(X_train)\n",
    "\n",
    "# Predict anomalies\n",
    "y_pred = model.predict(X_test)\n",
    "y_pred = np.where(y_pred == -1, 1, 0)  # Convert -1 (anomalies) to 1, others to 0\n",
    "\n",
    "# Evaluate model\n",
    "print(\"Classification Report:\")\n",
    "print(classification_report(y_test, y_pred))\n"
   ]
  },
  {
   "cell_type": "code",
   "execution_count": 4,
   "id": "011fd408-342a-4edd-96c9-f473487a0de6",
   "metadata": {},
   "outputs": [
    {
     "name": "stdout",
     "output_type": "stream",
     "text": [
      "Training set size: (100778, 42), Testing set size: (25195, 42)\n"
     ]
    }
   ],
   "source": [
    "import pandas as pd\n",
    "import numpy as np\n",
    "from sklearn.model_selection import train_test_split\n",
    "from sklearn.preprocessing import StandardScaler, LabelEncoder\n",
    "columns = ['duration', 'protocol_type', 'service', 'flag', 'src_bytes', 'dst_bytes', \n",
    "           'land', 'wrong_fragment', 'urgent', 'hot', 'num_failed_logins', 'logged_in',\n",
    "           'num_compromised', 'root_shell', 'su_attempted', 'num_root', 'num_file_creations',\n",
    "           'num_shells', 'num_access_files', 'num_outbound_cmds', 'is_host_login', \n",
    "           'is_guest_login', 'count', 'srv_count', 'serror_rate', 'srv_serror_rate',\n",
    "           'rerror_rate', 'srv_rerror_rate', 'same_srv_rate', 'diff_srv_rate', \n",
    "           'srv_diff_host_rate', 'dst_host_count', 'dst_host_srv_count', 'dst_host_same_srv_rate',\n",
    "           'dst_host_diff_srv_rate', 'dst_host_same_src_port_rate', 'dst_host_srv_diff_host_rate',\n",
    "           'dst_host_serror_rate', 'dst_host_srv_serror_rate', 'dst_host_rerror_rate',\n",
    "           'dst_host_srv_rerror_rate', 'attack', 'last_flag']\n",
    "\n",
    "# Load dataset\n",
    "df = pd.read_csv(\"KDDTrain+.txt\", names=columns)\n",
    "\n",
    "# Encode categorical variables\n",
    "encoder = LabelEncoder()\n",
    "df['protocol_type'] = encoder.fit_transform(df['protocol_type'])\n",
    "df['service'] = encoder.fit_transform(df['service'])\n",
    "df['flag'] = encoder.fit_transform(df['flag'])\n",
    "\n",
    "# Encode attack labels (1 = attack, 0 = normal)\n",
    "df['attack'] = df['attack'].apply(lambda x: 0 if x == 'normal' else 1)\n",
    "\n",
    "# Normalize numeric features\n",
    "scaler = StandardScaler()\n",
    "features = df.drop(columns=['attack'])\n",
    "labels = df['attack']\n",
    "features_scaled = scaler.fit_transform(features)\n",
    "\n",
    "# Split data\n",
    "X_train, X_test, y_train, y_test = train_test_split(features_scaled, labels, test_size=0.2, random_state=42)\n",
    "\n",
    "print(f\"Training set size: {X_train.shape}, Testing set size: {X_test.shape}\")\n"
   ]
  },
  {
   "cell_type": "code",
   "execution_count": 5,
   "id": "cd6517dc-96f6-4477-86d8-ccf798416d71",
   "metadata": {},
   "outputs": [
    {
     "name": "stdout",
     "output_type": "stream",
     "text": [
      "Classification Report:\n",
      "              precision    recall  f1-score   support\n",
      "\n",
      "           0       0.55      0.93      0.69     13422\n",
      "           1       0.64      0.14      0.22     11773\n",
      "\n",
      "    accuracy                           0.56     25195\n",
      "   macro avg       0.59      0.53      0.46     25195\n",
      "weighted avg       0.59      0.56      0.47     25195\n",
      "\n"
     ]
    }
   ],
   "source": [
    "from sklearn.ensemble import IsolationForest\n",
    "from sklearn.metrics import accuracy_score, classification_report\n",
    "\n",
    "# Train Isolation Forest model\n",
    "model = IsolationForest(n_estimators=100, contamination=0.1, random_state=42)\n",
    "model.fit(X_train)\n",
    "\n",
    "# Predict anomalies\n",
    "y_pred = model.predict(X_test)\n",
    "y_pred = np.where(y_pred == -1, 1, 0)  # Convert -1 (anomalies) to 1, others to 0\n",
    "\n",
    "# Evaluate model\n",
    "print(\"Classification Report:\")\n",
    "print(classification_report(y_test, y_pred))\n"
   ]
  },
  {
   "cell_type": "code",
   "execution_count": 6,
   "id": "2cbf08b6-3b8f-4e31-8967-233648b03c35",
   "metadata": {},
   "outputs": [],
   "source": [
    "from collections.abc import Sequence\n"
   ]
  },
  {
   "cell_type": "code",
   "execution_count": 7,
   "id": "c44c857d-de2b-48db-a3f5-8c7b7529266e",
   "metadata": {},
   "outputs": [],
   "source": [
    "import os\n",
    "\n",
    "def block_ip(ip_address):\n",
    "    print(f\"Blocking IP: {ip_address}\")\n",
    "    os.system(f\"sudo iptables -A INPUT -s {ip_address} -j DROP\")  # Linux Firewall Rule\n"
   ]
  },
  {
   "cell_type": "code",
   "execution_count": 8,
   "id": "30721b68-ebb7-4632-a998-cd6e46a9b537",
   "metadata": {},
   "outputs": [
    {
     "name": "stdout",
     "output_type": "stream",
     "text": [
      "Alert sent to integrasbiotek@gmail.com\n"
     ]
    }
   ],
   "source": [
    "import smtplib\n",
    "from email.mime.text import MIMEText\n",
    "\n",
    "def send_alert(ip):\n",
    "    sender_email = \"urmishikhadash2004@gmail.com\"\n",
    "    receiver_email = \"integrasbiotek@gmail.com\"\n",
    "    subject = \"⚠ Intrusion Alert ⚠\"\n",
    "    body = f\"Anomaly detected from IP: {ip}. Immediate action required!\"\n",
    "\n",
    "    msg = MIMEText(body)\n",
    "    msg['Subject'] = subject\n",
    "    msg['From'] = sender_email\n",
    "    msg['To'] = receiver_email\n",
    "\n",
    "    with smtplib.SMTP('smtp.gmail.com', 587) as server:\n",
    "        server.starttls()\n",
    "        server.login(sender_email, \"wmcgtzwnpkmeermd\")\n",
    "        server.sendmail(sender_email, receiver_email, msg.as_string())\n",
    "\n",
    "    print(f\"Alert sent to {receiver_email}\")\n",
    "\n",
    "send_alert(\"192.168.1.100\")"
   ]
  },
  {
   "cell_type": "code",
   "execution_count": 9,
   "id": "40a35249-8471-4db5-b44a-3cc91a9d6bc9",
   "metadata": {},
   "outputs": [
    {
     "name": "stdout",
     "output_type": "stream",
     "text": [
      "Requirement already satisfied: flask in ./anaconda3/lib/python3.11/site-packages (3.1.0)\n",
      "Requirement already satisfied: flask-sqlalchemy in ./anaconda3/lib/python3.11/site-packages (3.1.1)\n",
      "Requirement already satisfied: Werkzeug>=3.1 in ./anaconda3/lib/python3.11/site-packages (from flask) (3.1.3)\n",
      "Requirement already satisfied: Jinja2>=3.1.2 in ./anaconda3/lib/python3.11/site-packages (from flask) (3.1.2)\n",
      "Requirement already satisfied: itsdangerous>=2.2 in ./anaconda3/lib/python3.11/site-packages (from flask) (2.2.0)\n",
      "Requirement already satisfied: click>=8.1.3 in ./anaconda3/lib/python3.11/site-packages (from flask) (8.1.8)\n",
      "Requirement already satisfied: blinker>=1.9 in ./anaconda3/lib/python3.11/site-packages (from flask) (1.9.0)\n",
      "Requirement already satisfied: sqlalchemy>=2.0.16 in ./.local/lib/python3.11/site-packages (from flask-sqlalchemy) (2.0.29)\n",
      "Requirement already satisfied: MarkupSafe>=2.0 in ./anaconda3/lib/python3.11/site-packages (from Jinja2>=3.1.2->flask) (2.1.1)\n",
      "Requirement already satisfied: typing-extensions>=4.6.0 in ./anaconda3/lib/python3.11/site-packages (from sqlalchemy>=2.0.16->flask-sqlalchemy) (4.12.2)\n",
      "Note: you may need to restart the kernel to use updated packages.\n"
     ]
    }
   ],
   "source": [
    "pip install flask flask-sqlalchemy\n"
   ]
  },
  {
   "cell_type": "code",
   "execution_count": 10,
   "id": "1ffd157e-2c0a-40b5-89eb-ba60d1cfc3c3",
   "metadata": {},
   "outputs": [
    {
     "name": "stdout",
     "output_type": "stream",
     "text": [
      "Saving model...\n",
      "Saving scaler...\n",
      "Both files saved successfully!\n"
     ]
    }
   ],
   "source": [
    "import joblib\n",
    "\n",
    "# Save the trained model\n",
    "print(\"Saving model...\")\n",
    "joblib.dump(model, 'anomaly_model.pkl')\n",
    "\n",
    "# Save the scaler\n",
    "print(\"Saving scaler...\")\n",
    "joblib.dump(scaler, 'anomaly_model_scaler.pkl')\n",
    "\n",
    "print(\"Both files saved successfully!\")"
   ]
  },
  {
   "cell_type": "code",
   "execution_count": null,
   "id": "da2ce0ea-7b80-4626-b783-0dffe9b2a831",
   "metadata": {},
   "outputs": [],
   "source": []
  }
 ],
 "metadata": {
  "kernelspec": {
   "display_name": "Python 3 (ipykernel)",
   "language": "python",
   "name": "python3"
  },
  "language_info": {
   "codemirror_mode": {
    "name": "ipython",
    "version": 3
   },
   "file_extension": ".py",
   "mimetype": "text/x-python",
   "name": "python",
   "nbconvert_exporter": "python",
   "pygments_lexer": "ipython3",
   "version": "3.11.5"
  }
 },
 "nbformat": 4,
 "nbformat_minor": 5
}
